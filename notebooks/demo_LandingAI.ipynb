{
 "cells": [
  {
   "cell_type": "code",
   "execution_count": 1,
   "metadata": {},
   "outputs": [
    {
     "name": "stdout",
     "output_type": "stream",
     "text": [
      "/Users/cmcoutosilva/Projects/github/labrag\n"
     ]
    }
   ],
   "source": [
    "import os\n",
    "\n",
    "if os.getcwd().endswith(\"notebooks\"):\n",
    "    os.chdir(\"..\")\n",
    "\n",
    "print(os.getcwd())"
   ]
  },
  {
   "cell_type": "code",
   "execution_count": 2,
   "metadata": {},
   "outputs": [
    {
     "name": "stdout",
     "output_type": "stream",
     "text": [
      "\u001b[2m2025-06-27 20:08:47\u001b[0m [info   \u001b[0m] \u001b[1mSettings loaded: {\n",
      "  \"endpoint_host\": \"https://api.va.landing.ai\",\n",
      "  \"vision_agent_api_key\": \"ZjZid[REDACTED]\",\n",
      "  \"batch_size\": 4,\n",
      "  \"max_workers\": 5,\n",
      "  \"max_retries\": 100,\n",
      "  \"max_retry_wait_time\": 60,\n",
      "  \"retry_logging_style\": \"log_msg\",\n",
      "  \"pdf_to_image_dpi\": 96,\n",
      "  \"split_size\": 10,\n",
      "  \"extraction_split_size\": 50\n",
      "}\u001b[0m [\u001b[0m\u001b[1m\u001b[34magentic_doc.config\u001b[0m]\u001b[0m (config.py:90)\n"
     ]
    }
   ],
   "source": [
    "from agentic_doc.parse import parse\n",
    "from langchain.document_loaders import PyPDFLoader"
   ]
  },
  {
   "cell_type": "code",
   "execution_count": 3,
   "metadata": {},
   "outputs": [
    {
     "name": "stdout",
     "output_type": "stream",
     "text": [
      "S2). Among the thr ee genes tha t w er e highlighted in our analy sis, \n",
      "PPP3C A and D YNC1I1 w er e sugges tiv ely associa ted with T . cruzi \n",
      "ser opositivity and immune r esponse (Fig. 1 and table S2) (28), \n",
      "while NOS1AP w as r ela ted to the mosquito bite r ea ction (Fig. 1) \n",
      "(29). The s tr onges t selection signa tur e found in Amazonian popu-\n",
      "la tions w as ar ound the PPP3C A gene r egion (Fig. 1 and figs. S1 and \n",
      "S4). Neutr al coalescent simula tions indica te tha t these devia tions in \n",
      "allele fr equency (rs2659540 G>A) ar e s ta tis tically significant \n",
      "(P < 0.0075; fig. S3), which is consis tent with the a ction of ositiv e \n",
      "selection as opposed to a genetic drift effect in the Amazonian pop-\n",
      "ula tions. W e es tima ted a selection s tarting time of 7500 yr B.P . [con-\n",
      "fidence interval (CI) = 1560 to 12,035] and a selection coefficient of \n",
      "0.05 (CI = 0.015 to 0.20) (fig. S6). This r esult sugges ts tha t selection \n",
      "s tarted a cting on this gene a fter the split betw een Amazonian, \n",
      "C oas tal P a cific, and Andes popula tions (30). A pr evious s tudy on \n",
      "ancient tissues of 283 individuals, da ting fr om 9000 to 450 yr \n",
      "B.P ., fr om South America’s coas tal ar ea of southern P eru and north-\n",
      "ern Chile sho w ed a slight incr ease in the infection r a te o v er time \n",
      "(18). These findings support our infer ence of a selection signal, \n",
      "which is lik ely e xclusiv e to Amazonian r ainfor es t popula tions. \n",
      "The GO enrichment analy sis based on both the XP-EHH (95th \n",
      "per centile) and PBS (95th per centile) analy sis sho w ed s ta tis tically \n",
      "significant enrichment of genes inv olv ed in the r esponse to pr oto-\n",
      "zoan and eosinophil chemotaxis, which ha v e a kno wn r ole in par-\n",
      "asitic infections (T able 1 and table S3). When FUMA GW AS and \n",
      "Enrichr w er e applied, associa tions with other tr aits w er e detected, \n",
      "including no v elty-seeking beha vior, metabolic tr aits, and s y s tolic/ \n",
      "dias tolic pr essur e (tables S4 and S5). Sev er al s tudies, including Br a-\n",
      "zilian indigenous popula tions, ha v e sho wn high r a tes of obesity and \n",
      "cardiopa thies (31, 32). F or ins tance, in the Xa vante popula tion, 66% \n",
      "of individuals suffer fr om obesity , diabetes, or cor onary heart \n",
      "disease (33). Berge y et al. (34) sho w ed a s tr ong signal of conv ergent \n",
      "selection in heart-r ela ted networks in s tudying Asian and African \n",
      "hunter-ga ther ers as compensa tory adapta tions to their short \n",
      "s ta tur e, which ma y possibly also be the case in Na tiv e Americans. \n",
      "F urthermor e, w e also identify associa tions tha t could r aise a hypoth-\n",
      "esis for incr eased no v elty-seeking beha vior, curr ently r ecognized \n",
      "thr ough ca ffeine and nicotine consumption (tables S4 and S5) \n",
      "(35, 36). No v elty-seeking beha viors ma y ha v e been important in \n",
      "Fig. 1. PBS-windo w ed scor es for target genes. Log\n",
      "10 \n",
      "of PBS P values ar ound the (A) PPP3C A and (B) NOS1AP and D YNC1I1 genes, chr omosomes 1 and 4, r espectiv ely . \n",
      "Gr aphs sho w up to 4 Mb a w a y fr om the initial and final gene position. Pink shado w ar eas corr espond to 300 kb of the gene limit description. All these genes ha v e the \n",
      "highes t PBS values for their r espectiv e chr omosomes. \n",
      "C outo-Silva et al., Sci. Adv. 9, eabo0234 (2023) 8 Mar ch 2023                                                                                                                                                    2 of 9  \n",
      "SCIENCE ADV ANCES\n",
      "|\n",
      "RESEARCH ARTICLE\n"
     ]
    }
   ],
   "source": [
    "# Load the example PDF file with PyPDFLoader\n",
    "loader = PyPDFLoader(\"data/examples/paper_with_figure_2p.pdf\")\n",
    "docs = loader.load()\n",
    "\n",
    "# Let's inspect the second page (the one with a figure)\n",
    "print(docs[1].page_content)"
   ]
  },
  {
   "cell_type": "code",
   "execution_count": 4,
   "metadata": {},
   "outputs": [
    {
     "name": "stdout",
     "output_type": "stream",
     "text": [
      "\u001b[2m2025-06-27 20:08:49\u001b[0m [info   \u001b[0m] \u001b[1mAPI key is valid.             \u001b[0m [\u001b[0m\u001b[1m\u001b[34magentic_doc.utils\u001b[0m]\u001b[0m (utils.py:44)\n",
      "\u001b[2m2025-06-27 20:08:49\u001b[0m [info   \u001b[0m] \u001b[1mParsing 1 documents           \u001b[0m [\u001b[0m\u001b[1m\u001b[34magentic_doc.parse\u001b[0m]\u001b[0m (parse.py:342)\n",
      "\u001b[2m2025-06-27 20:08:49\u001b[0m [info   \u001b[0m] \u001b[1mSplitting PDF: 'data/examples/paper_with_figure_2p.pdf' into 0 parts under '/var/folders/f6/v18j18hx5hs027kyqmn49jv00000gn/T/tmpmaxua7ec'\u001b[0m [\u001b[0m\u001b[1m\u001b[34magentic_doc.utils\u001b[0m]\u001b[0m (utils.py:216)\n",
      "\u001b[2m2025-06-27 20:08:49\u001b[0m [info   \u001b[0m] \u001b[1mCreated /var/folders/f6/v18j18hx5hs027kyqmn49jv00000gn/T/tmpmaxua7ec/paper_with_figure_2p_1.pdf\u001b[0m [\u001b[0m\u001b[1m\u001b[34magentic_doc.utils\u001b[0m]\u001b[0m (utils.py:232)\n",
      "\u001b[2m2025-06-27 20:08:49\u001b[0m [info   \u001b[0m] \u001b[1mStart parsing document part: 'File name: paper_with_figure_2p_1.pdf\tPage: [0:1]'\u001b[0m [\u001b[0m\u001b[1m\u001b[34magentic_doc.parse\u001b[0m]\u001b[0m (parse.py:618)\n"
     ]
    },
    {
     "name": "stderr",
     "output_type": "stream",
     "text": [
      "Parsing documents:   0%|          | 0/1 [00:00<?, ?it/s]"
     ]
    },
    {
     "name": "stdout",
     "output_type": "stream",
     "text": [
      "HTTP Request: POST https://api.va.landing.ai/v1/tools/agentic-document-analysis \"HTTP/1.1 200 OK\" (_client.py:1025)\n",
      "\u001b[2m2025-06-27 20:08:59\u001b[0m [info   \u001b[0m] \u001b[1mTime taken to successfully parse a document chunk: 10.04 seconds\u001b[0m [\u001b[0m\u001b[1m\u001b[34magentic_doc.parse\u001b[0m]\u001b[0m (parse.py:762)\n",
      "\u001b[2m2025-06-27 20:08:59\u001b[0m [info   \u001b[0m] \u001b[1mSuccessfully parsed document part: 'File name: paper_with_figure_2p_1.pdf\tPage: [0:1]'\u001b[0m [\u001b[0m\u001b[1m\u001b[34magentic_doc.parse\u001b[0m]\u001b[0m (parse.py:626)\n"
     ]
    },
    {
     "name": "stderr",
     "output_type": "stream",
     "text": [
      "Parsing document parts from 'paper_with_figure_2p.pdf': 100%|██████████| 1/1 [00:10<00:00, 10.04s/it]"
     ]
    },
    {
     "name": "stdout",
     "output_type": "stream",
     "text": [
      "\u001b[2m2025-06-27 20:08:59\u001b[0m [info   \u001b[0m] \u001b[1mSaved the parsed result to 'data/parsed/paper_with_figure_2p_20250627_150859.json'\u001b[0m [\u001b[0m\u001b[1m\u001b[34magentic_doc.parse\u001b[0m]\u001b[0m (parse.py:431)\n"
     ]
    },
    {
     "name": "stderr",
     "output_type": "stream",
     "text": [
      "\n",
      "Parsing documents: 100%|██████████| 1/1 [00:10<00:00, 10.05s/it]\n"
     ]
    }
   ],
   "source": [
    "# Parse document using LandingAI\n",
    "parsed_docs = parse(\n",
    "    \"data/examples/paper_with_figure_2p.pdf\",\n",
    "    include_marginalia=False,\n",
    "    include_metadata_in_markdown=False,\n",
    "    result_save_dir=\"data/parsed\",\n",
    ")\n",
    "\n",
    "# show the parsed document\n",
    "# print(parsed_docs[0].model_dump()[\"markdown\"])"
   ]
  },
  {
   "cell_type": "code",
   "execution_count": 5,
   "metadata": {},
   "outputs": [
    {
     "name": "stdout",
     "output_type": "stream",
     "text": [
      "S2). Among the three genes that were highlighted in our analysis, PPP3CA and DYNC1I1 were suggestively associated with T. cruzi seropositivity and immune response (Fig. 1 and table S2) (28), while NOS1AP was related to the mosquito bite reaction (Fig. 1) (29). The strongest selection signature found in Amazonian populations was around the PPP3CA gene region (Fig. 1 and figs. S1 and S4). Neutral coalescent simulations indicate that these deviations in allele frequency (rs2659540 G>A) are statistically significant ($P < 0.0075$; fig. S3), which is consistent with the action of ositive selection as opposed to a genetic drift effect in the Amazonian populations. We estimated a selection starting time of 7500 yr B.P. [confidence interval (CI) = 1560 to 12,035] and a selection coefficient of 0.05 (CI = 0.015 to 0.20) (fig. S6). This result suggests that selection started acting on this gene after the split between Amazonian, Coastal Pacific, and Andes populations (30). A previous study on ancient tissues of 283 individuals, dating from 9000 to 450 yr B.P., from South America's coastal area of southern Peru and northern Chile showed a slight increase in the infection rate over time (18). These findings support our inference of a selection signal, which is likely exclusive to Amazonian rainforest populations.\n",
      "\n",
      "The GO enrichment analysis based on both the XP-EHH (95th\n",
      "percentile) and PBS (95th percentile) analysis showed statistically\n",
      "significant enrichment of genes involved in the response to proto-\n",
      "zoan and eosinophil chemotaxis, which have a known role in par-\n",
      "asitic infections (Table 1 and table S3). When FUMA GWAS and\n",
      "Enrichr were applied, associations with other traits were detected,\n",
      "including novelty-seeking behavior, metabolic traits, and systolic/\n",
      "diastolic pressure (tables S4 and S5). Several studies, including Bra-\n",
      "zilian indigenous populations, have shown high rates of obesity and\n",
      "cardiopathies (31, 32). For instance, in the Xavante population, 66%\n",
      "of individuals suffer from obesity, diabetes, or coronary heart\n",
      "disease (33). Bergey et al. (34) showed a strong signal of convergent\n",
      "selection in heart-related networks in studying Asian and African\n",
      "hunter-gatherers as compensatory adaptations to their short\n",
      "stature, which may possibly also be the case in Native Americans.\n",
      "Furthermore, we also identify associations that could raise a hypoth-\n",
      "esis for increased novelty-seeking behavior, currently recognized\n",
      "through caffeine and nicotine consumption (tables S4 and S5)\n",
      "(35, 36). Novelty-seeking behaviors may have been important in\n",
      "\n",
      "Summary : This figure presents a regional association plot (often called a locus zoom plot) for the PPP3CA gene region on chromosome 4, showing the statistical significance of genetic variants (SNPs) across a genomic interval.\n",
      "\n",
      "scatter plot:\n",
      "Title & Axes :\n",
      "  • Title: \"PPP3CA\" (italicized, gene name).\n",
      "  • X-axis: \"Position on chromosome 4 (Mb)\".\n",
      "  • X-axis tick labels: approximately 97.5 to 104.5 (Mb).\n",
      "  • Y-axis: \"−Log₁₀(P)\".\n",
      "  • Y-axis tick labels: 0, 1, 2, 3, 4, 5.\n",
      "\n",
      "Data Points :\n",
      "  • Each point represents a genetic variant (SNP) plotted by its chromosomal position (x) and −Log₁₀(P) value (y).\n",
      "  • The majority of points are clustered between 97.5 and 104.5 Mb on the x-axis.\n",
      "  • The highest −Log₁₀(P) values reach just above 5.\n",
      "  • A vertical band (shaded pink) highlights a region from just before 100 Mb to just after 102 Mb, with the densest cluster of high −Log₁₀(P) values.\n",
      "  • The most significant SNPs (highest −Log₁₀(P)) are colored red and orange, located within the highlighted region.\n",
      "\n",
      "Design Encodings :\n",
      "  • Points are colored by significance: purple (least significant), pink, orange, and red (most significant).\n",
      "  • A vertical pink shaded region emphasizes the PPP3CA locus.\n",
      "  • No error bars or confidence intervals are shown.\n",
      "  • No additional series or trend lines.\n",
      "\n",
      "Distribution & Trends :\n",
      "  • Most points have −Log₁₀(P) values between 0 and 2.\n",
      "  • A cluster of higher −Log₁₀(P) values (up to 5) is observed within the highlighted region (100–102 Mb).\n",
      "  • Outside the highlighted region, points are more uniformly distributed with lower significance.\n",
      "\n",
      "Analysis :\n",
      "  • The plot reveals a clear association peak in the PPP3CA region (100–102 Mb), with several SNPs showing elevated statistical significance (−Log₁₀(P) > 4).\n",
      "  • The color gradient visually emphasizes the most significant associations.\n",
      "  • The rest of the region shows no comparable peaks, suggesting the association is specific to the PPP3CA locus.\n",
      "\n",
      "Summary : This figure presents two regional association plots showing the statistical significance of genetic variants around the NOS1AP and DYNC1I1 genes, with respect to their genomic positions.\n",
      "\n",
      "scatter plot:\n",
      "# Title & Axes :\n",
      "  • No explicit main title; gene names \"NOS1AP\" (left) and \"DYNC1I1\" (right) are shown in bold above each panel.\n",
      "  • X-axis: \"Position around the target genes (Mb)\".\n",
      "    – NOS1AP panel: tick labels at approximately 158, 160, 162, 164, 166.\n",
      "    – DYNC1I1 panel: tick labels at approximately 92, 94, 96, 98, 100.\n",
      "  • Y-axis: \"−Log₁₀(P)\".\n",
      "    – Tick labels: 0, 1, 2, 3, 4.\n",
      "\n",
      "# Data Points :\n",
      "  • Each panel contains multiple points representing genetic variants.\n",
      "  • X-values: Genomic position in megabases (Mb) around the respective gene.\n",
      "  • Y-values: −Log₁₀(P) values, indicating statistical significance.\n",
      "  • Highest points in both panels reach just above 4 on the y-axis.\n",
      "  • Points are distributed across the x-axis range, with denser clustering near the center of each plot.\n",
      "\n",
      "# Design Encodings :\n",
      "  • Points are coloured in a gradient from dark blue (lowest values) through purple, pink, orange, to red (highest values).\n",
      "  • Vertical shaded region (light pink) highlights a specific interval in the center of each plot.\n",
      "  • No error bars or confidence intervals are shown.\n",
      "  • No explicit legend, but colour encodes significance (higher −Log₁₀(P) = warmer colour).\n",
      "\n",
      "# Distribution & Trends :\n",
      "  • Both panels show a cluster of higher −Log₁₀(P) values (orange/red points) within the shaded region, indicating a peak of statistical significance.\n",
      "  • Outside the shaded region, most points are lower (blue/purple), indicating less significance.\n",
      "  • The peak is sharper and more pronounced in the NOS1AP panel.\n",
      "\n",
      "# Analysis :\n",
      "  • Both NOS1AP and DYNC1I1 regions show a localized peak of statistical significance for genetic variants, centered within the highlighted interval.\n",
      "  • The clustering of high −Log₁₀(P) values suggests a potential association signal near the center of each gene region.\n",
      "  • The use of colour and vertical shading visually emphasizes the most significant region in each plot.\n",
      "\n",
      "Fig. 1. PBS-windowed scores for target genes. Log10 of PBS P values around the (A) PPP3CA and (B) NOS1AP and DYNC1I1 genes, chromosomes 1 and 4, respectively. Graphs show up to 4 Mb away from the initial and final gene position. Pink shadow areas correspond to 300 kb of the gene limit description. All these genes have the highest PBS values for their respective chromosomes.\n"
     ]
    }
   ],
   "source": [
    "# Get the content of the second page\n",
    "content_page2 = \"\\n\\n\".join([chunk.text for chunk in parsed_docs[0].chunks if chunk.grounding[0].page == 1])\n",
    "\n",
    "print(content_page2)"
   ]
  },
  {
   "cell_type": "code",
   "execution_count": 6,
   "metadata": {},
   "outputs": [
    {
     "name": "stdout",
     "output_type": "stream",
     "text": [
      "S2). Among the three genes that were highlighted in our analysis, PPP3CA and DYNC1I1 were suggestively associated with T. cruzi seropositivity and immune response (Fig. 1 and table S2) (28), while NOS1AP was related to the mosquito bite reaction (Fig. 1) (29). The strongest selection signature found in Amazonian populations was around the PPP3CA gene region (Fig. 1 and figs. S1 and S4). Neutral coalescent simulations indicate that these deviations in allele frequency (rs2659540 G>A) are statistically significant ($P < 0.0075$; fig. S3), which is consistent with the action of ositive selection as opposed to a genetic drift effect in the Amazonian populations. We estimated a selection starting time of 7500 yr B.P. [confidence interval (CI) = 1560 to 12,035] and a selection coefficient of 0.05 (CI = 0.015 to 0.20) (fig. S6). This result suggests that selection started acting on this gene after the split between Amazonian, Coastal Pacific, and Andes populations (30). A previous study on ancient tissues of 283 individuals, dating from 9000 to 450 yr B.P., from South America's coastal area of southern Peru and northern Chile showed a slight increase in the infection rate over time (18). These findings support our inference of a selection signal, which is likely exclusive to Amazonian rainforest populations.\n",
      "\n",
      "The GO enrichment analysis based on both the XP-EHH (95th\n",
      "percentile) and PBS (95th percentile) analysis showed statistically\n",
      "significant enrichment of genes involved in the response to proto-\n",
      "zoan and eosinophil chemotaxis, which have a known role in par-\n",
      "asitic infections (Table 1 and table S3). When FUMA GWAS and\n",
      "Enrichr were applied, associations with other traits were detected,\n",
      "including novelty-seeking behavior, metabolic traits, and systolic/\n",
      "diastolic pressure (tables S4 and S5). Several studies, including Bra-\n",
      "zilian indigenous populations, have shown high rates of obesity and\n",
      "cardiopathies (31, 32). For instance, in the Xavante population, 66%\n",
      "of individuals suffer from obesity, diabetes, or coronary heart\n",
      "disease (33). Bergey et al. (34) showed a strong signal of convergent\n",
      "selection in heart-related networks in studying Asian and African\n",
      "hunter-gatherers as compensatory adaptations to their short\n",
      "stature, which may possibly also be the case in Native Americans.\n",
      "Furthermore, we also identify associations that could raise a hypoth-\n",
      "esis for increased novelty-seeking behavior, currently recognized\n",
      "through caffeine and nicotine consumption (tables S4 and S5)\n",
      "(35, 36). Novelty-seeking behaviors may have been important in\n",
      "\n",
      "Summary : This figure presents a regional association plot (often called a locus zoom plot) for the PPP3CA gene region on chromosome 4, showing the statistical significance of genetic variants (SNPs) across a genomic interval.\n",
      "\n",
      "scatter plot:\n",
      "Title & Axes :\n",
      "  • Title: \"PPP3CA\" (italicized, gene name).\n",
      "  • X-axis: \"Position on chromosome 4 (Mb)\".\n",
      "  • X-axis tick labels: approximately 97.5 to 104.5 (Mb).\n",
      "  • Y-axis: \"−Log₁₀(P)\".\n",
      "  • Y-axis tick labels: 0, 1, 2, 3, 4, 5.\n",
      "\n",
      "Data Points :\n",
      "  • Each point represents a genetic variant (SNP) plotted by its chromosomal position (x) and −Log₁₀(P) value (y).\n",
      "  • The majority of points are clustered between 97.5 and 104.5 Mb on the x-axis.\n",
      "  • The highest −Log₁₀(P) values reach just above 5.\n",
      "  • A vertical band (shaded pink) highlights a region from just before 100 Mb to just after 102 Mb, with the densest cluster of high −Log₁₀(P) values.\n",
      "  • The most significant SNPs (highest −Log₁₀(P)) are colored red and orange, located within the highlighted region.\n",
      "\n",
      "Design Encodings :\n",
      "  • Points are colored by significance: purple (least significant), pink, orange, and red (most significant).\n",
      "  • A vertical pink shaded region emphasizes the PPP3CA locus.\n",
      "  • No error bars or confidence intervals are shown.\n",
      "  • No additional series or trend lines.\n",
      "\n",
      "Distribution & Trends :\n",
      "  • Most points have −Log₁₀(P) values between 0 and 2.\n",
      "  • A cluster of higher −Log₁₀(P) values (up to 5) is observed within the highlighted region (100–102 Mb).\n",
      "  • Outside the highlighted region, points are more uniformly distributed with lower significance.\n",
      "\n",
      "Analysis :\n",
      "  • The plot reveals a clear association peak in the PPP3CA region (100–102 Mb), with several SNPs showing elevated statistical significance (−Log₁₀(P) > 4).\n",
      "  • The color gradient visually emphasizes the most significant associations.\n",
      "  • The rest of the region shows no comparable peaks, suggesting the association is specific to the PPP3CA locus.\n",
      "\n",
      "Summary : This figure presents two regional association plots showing the statistical significance of genetic variants around the NOS1AP and DYNC1I1 genes, with respect to their genomic positions.\n",
      "\n",
      "scatter plot:\n",
      "# Title & Axes :\n",
      "  • No explicit main title; gene names \"NOS1AP\" (left) and \"DYNC1I1\" (right) are shown in bold above each panel.\n",
      "  • X-axis: \"Position around the target genes (Mb)\".\n",
      "    – NOS1AP panel: tick labels at approximately 158, 160, 162, 164, 166.\n",
      "    – DYNC1I1 panel: tick labels at approximately 92, 94, 96, 98, 100.\n",
      "  • Y-axis: \"−Log₁₀(P)\".\n",
      "    – Tick labels: 0, 1, 2, 3, 4.\n",
      "\n",
      "# Data Points :\n",
      "  • Each panel contains multiple points representing genetic variants.\n",
      "  • X-values: Genomic position in megabases (Mb) around the respective gene.\n",
      "  • Y-values: −Log₁₀(P) values, indicating statistical significance.\n",
      "  • Highest points in both panels reach just above 4 on the y-axis.\n",
      "  • Points are distributed across the x-axis range, with denser clustering near the center of each plot.\n",
      "\n",
      "# Design Encodings :\n",
      "  • Points are coloured in a gradient from dark blue (lowest values) through purple, pink, orange, to red (highest values).\n",
      "  • Vertical shaded region (light pink) highlights a specific interval in the center of each plot.\n",
      "  • No error bars or confidence intervals are shown.\n",
      "  • No explicit legend, but colour encodes significance (higher −Log₁₀(P) = warmer colour).\n",
      "\n",
      "# Distribution & Trends :\n",
      "  • Both panels show a cluster of higher −Log₁₀(P) values (orange/red points) within the shaded region, indicating a peak of statistical significance.\n",
      "  • Outside the shaded region, most points are lower (blue/purple), indicating less significance.\n",
      "  • The peak is sharper and more pronounced in the NOS1AP panel.\n",
      "\n",
      "# Analysis :\n",
      "  • Both NOS1AP and DYNC1I1 regions show a localized peak of statistical significance for genetic variants, centered within the highlighted interval.\n",
      "  • The clustering of high −Log₁₀(P) values suggests a potential association signal near the center of each gene region.\n",
      "  • The use of colour and vertical shading visually emphasizes the most significant region in each plot.\n",
      "\n",
      "Fig. 1. PBS-windowed scores for target genes. Log10 of PBS P values around the (A) PPP3CA and (B) NOS1AP and DYNC1I1 genes, chromosomes 1 and 4, respectively. Graphs show up to 4 Mb away from the initial and final gene position. Pink shadow areas correspond to 300 kb of the gene limit description. All these genes have the highest PBS values for their respective chromosomes.\n",
      "\n",
      "\n"
     ]
    }
   ],
   "source": [
    "text = \"\"\n",
    "\n",
    "for chunk in parsed_docs[0].chunks:\n",
    "    grounding = chunk.grounding[0]\n",
    "    if grounding.page == 1:\n",
    "        text += chunk.text\n",
    "        text += \"\\n\\n\"\n",
    "\n",
    "print(text)"
   ]
  }
 ],
 "metadata": {
  "kernelspec": {
   "display_name": ".venv",
   "language": "python",
   "name": "python3"
  },
  "language_info": {
   "codemirror_mode": {
    "name": "ipython",
    "version": 3
   },
   "file_extension": ".py",
   "mimetype": "text/x-python",
   "name": "python",
   "nbconvert_exporter": "python",
   "pygments_lexer": "ipython3",
   "version": "3.13.3"
  }
 },
 "nbformat": 4,
 "nbformat_minor": 2
}
